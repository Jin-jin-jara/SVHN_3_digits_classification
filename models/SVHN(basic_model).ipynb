{
  "nbformat": 4,
  "nbformat_minor": 0,
  "metadata": {
    "colab": {
      "name": "SVHN(basic_model)",
      "provenance": [],
      "collapsed_sections": [],
      "machine_shape": "hm",
      "include_colab_link": true
    },
    "kernelspec": {
      "name": "python3",
      "display_name": "Python 3"
    },
    "accelerator": "GPU"
  },
  "cells": [
    {
      "cell_type": "markdown",
      "metadata": {
        "id": "view-in-github",
        "colab_type": "text"
      },
      "source": [
        "<a href=\"https://colab.research.google.com/github/Jin-jin-jara/Small-Project1--SVHN_3_digits_classification/blob/master/SVHN(basic_model).ipynb\" target=\"_parent\"><img src=\"https://colab.research.google.com/assets/colab-badge.svg\" alt=\"Open In Colab\"/></a>"
      ]
    },
    {
      "cell_type": "markdown",
      "metadata": {
        "id": "DT8XfEiwE32c",
        "colab_type": "text"
      },
      "source": [
        "# SVHN 3 digits classfication"
      ]
    },
    {
      "cell_type": "markdown",
      "metadata": {
        "id": "l1O9DFBZrtTU",
        "colab_type": "text"
      },
      "source": [
        "데이터를 전처리 후 기본 CNN모델에 훈련시켰습니다."
      ]
    },
    {
      "cell_type": "code",
      "metadata": {
        "id": "pM_IxykoeM5w",
        "colab_type": "code",
        "colab": {}
      },
      "source": [
        "%tensorflow_version 2.x\n",
        "import numpy as np\n",
        "import matplotlib.pyplot as plt\n",
        "%matplotlib inline\n",
        "import random\n",
        "import os\n",
        "\n",
        "from scipy.io import loadmat\n",
        "from skimage import color\n",
        "from skimage import io\n",
        "\n",
        "import tensorflow as tf\n",
        "from tensorflow import keras\n",
        "from tensorflow.keras import Model\n",
        "from tensorflow.keras.layers import Dense, Conv2D, MaxPool2D, Flatten, Activation, Dropout, BatchNormalization\n",
        "from keras import optimizers"
      ],
      "execution_count": 0,
      "outputs": []
    },
    {
      "cell_type": "code",
      "metadata": {
        "id": "fPgw145uWS6y",
        "colab_type": "code",
        "outputId": "49cf30b4-ba99-4105-dad5-cd9a605ac391",
        "colab": {
          "base_uri": "https://localhost:8080/",
          "height": 127
        }
      },
      "source": [
        "from google.colab import drive\n",
        "drive.mount('/content/drive')"
      ],
      "execution_count": 3,
      "outputs": [
        {
          "output_type": "stream",
          "text": [
            "Go to this URL in a browser: https://accounts.google.com/o/oauth2/auth?client_id=947318989803-6bn6qk8qdgf4n4g3pfee6491hc0brc4i.apps.googleusercontent.com&redirect_uri=urn%3aietf%3awg%3aoauth%3a2.0%3aoob&response_type=code&scope=email%20https%3a%2f%2fwww.googleapis.com%2fauth%2fdocs.test%20https%3a%2f%2fwww.googleapis.com%2fauth%2fdrive%20https%3a%2f%2fwww.googleapis.com%2fauth%2fdrive.photos.readonly%20https%3a%2f%2fwww.googleapis.com%2fauth%2fpeopleapi.readonly\n",
            "\n",
            "Enter your authorization code:\n",
            "··········\n",
            "Mounted at /content/drive\n"
          ],
          "name": "stdout"
        }
      ]
    },
    {
      "cell_type": "code",
      "metadata": {
        "id": "S-8pC9_Td4wd",
        "colab_type": "code",
        "outputId": "7114ef22-db9e-4249-a414-ec44eddf89c6",
        "colab": {
          "base_uri": "https://localhost:8080/",
          "height": 35
        }
      },
      "source": [
        "def load_data(path):\n",
        "  data = loadmat(path)\n",
        "  return data['X'], data['y']\n",
        "\n",
        "x, y = load_data(\"/content/drive/My Drive/test_32x32.mat\")\n",
        "\n",
        "x.shape, y.shape"
      ],
      "execution_count": 55,
      "outputs": [
        {
          "output_type": "execute_result",
          "data": {
            "text/plain": [
              "((32, 32, 3, 26032), (26032, 1))"
            ]
          },
          "metadata": {
            "tags": []
          },
          "execution_count": 55
        }
      ]
    },
    {
      "cell_type": "code",
      "metadata": {
        "id": "rkT-9EdOeyDN",
        "colab_type": "code",
        "outputId": "bd8548ff-8838-4a38-d9b0-9825c9e31c20",
        "colab": {
          "base_uri": "https://localhost:8080/",
          "height": 35
        }
      },
      "source": [
        "x, y = x.transpose((3,0,1,2)), y[:, 0]\n",
        "\n",
        "x.shape, y.shape"
      ],
      "execution_count": 56,
      "outputs": [
        {
          "output_type": "execute_result",
          "data": {
            "text/plain": [
              "((26032, 32, 32, 3), (26032,))"
            ]
          },
          "metadata": {
            "tags": []
          },
          "execution_count": 56
        }
      ]
    },
    {
      "cell_type": "code",
      "metadata": {
        "colab_type": "code",
        "id": "tZfDk3LsHjMX",
        "colab": {}
      },
      "source": [
        "m = len(y)//2\n",
        "\n",
        "x_train = x[:m]\n",
        "y_train = y[:m]\n",
        "x_test = x[m:m*2]\n",
        "y_test = y[m:m*2]"
      ],
      "execution_count": 0,
      "outputs": []
    },
    {
      "cell_type": "code",
      "metadata": {
        "id": "f4gjRmCdispj",
        "colab_type": "code",
        "colab": {}
      },
      "source": [
        "def plot_images(img, labels, nrows, ncols):\n",
        "\n",
        "  fig, axes = plt.subplots(nrows, ncols)\n",
        "  for i, ax in enumerate(axes.flat):\n",
        "    if img[i].shape == (32,32,3):\n",
        "      ax.imshow(img[i])\n",
        "    else:\n",
        "      ax.imshow(img[i,:,:,0])\n",
        "    ax.set_xticks([]); ax.set_yticks([])\n",
        "    ax.set_title(labels[i])"
      ],
      "execution_count": 0,
      "outputs": []
    },
    {
      "cell_type": "code",
      "metadata": {
        "id": "hvhHRKoTmmCi",
        "colab_type": "code",
        "outputId": "29897a3e-84f9-4d6a-bc2e-55d2a62a70ee",
        "colab": {
          "base_uri": "https://localhost:8080/",
          "height": 53
        }
      },
      "source": [
        "y_train[y_train == 10] = 0\n",
        "y_test[y_test == 10] = 0\n",
        "\n",
        "print(np.unique(y_train))\n",
        "print(np.unique(y_test))"
      ],
      "execution_count": 61,
      "outputs": [
        {
          "output_type": "stream",
          "text": [
            "[0 1 2 3 4 5 6 7 8 9]\n",
            "[0 1 2 3 4 5 6 7 8 9]\n"
          ],
          "name": "stdout"
        }
      ]
    },
    {
      "cell_type": "code",
      "metadata": {
        "id": "drmdCkRD_0T6",
        "colab_type": "code",
        "colab": {}
      },
      "source": [
        "def attach_3_image(x, y):\n",
        "  m = len(y)\n",
        "  m = m-m%3\n",
        "  pad = 6\n",
        "  x, y = x[:m], y[:m]\n",
        "  x = x[:,:, pad:-pad] \n",
        "  x_attach = np.concatenate((x[::3], x[1::3], x[2::3]), axis=2)\n",
        "  y_attach = np.reshape(y, [-1,3])\n",
        "  return x_attach, y_attach"
      ],
      "execution_count": 0,
      "outputs": []
    },
    {
      "cell_type": "code",
      "metadata": {
        "id": "SNMLuapuoqJC",
        "colab_type": "code",
        "colab": {
          "base_uri": "https://localhost:8080/",
          "height": 35
        },
        "outputId": "28df336b-0e78-43fa-e2fb-54c8497851da"
      },
      "source": [
        "x3_train, y3_train = attach_3_image(x_train, y_train)\n",
        "x3_test, y3_test = attach_3_image(x_test, y_test)\n",
        "x3_train.shape, x3_test.shape, y3_train.shape, y3_test.shape"
      ],
      "execution_count": 64,
      "outputs": [
        {
          "output_type": "execute_result",
          "data": {
            "text/plain": [
              "((4338, 32, 60, 3), (4338, 32, 60, 3), (4338, 3), (4338, 3))"
            ]
          },
          "metadata": {
            "tags": []
          },
          "execution_count": 64
        }
      ]
    },
    {
      "cell_type": "code",
      "metadata": {
        "id": "GeLYmgeRm1lh",
        "colab_type": "code",
        "outputId": "b12c0831-0136-44b4-eed0-69459f42edc8",
        "colab": {
          "base_uri": "https://localhost:8080/",
          "height": 35
        }
      },
      "source": [
        "def rgb2gray(images):\n",
        "  return np.expand_dims(np.dot(images, [0.2126, 0.7152, 0.0722]), axis=3)\n",
        "\n",
        "train_grayscale = rgb2gray(x3_train).astype(np.float32)\n",
        "x3_test = rgb2gray(x3_test).astype(np.float32)\n",
        "train_grayscale.shape, x3_test.shape"
      ],
      "execution_count": 66,
      "outputs": [
        {
          "output_type": "execute_result",
          "data": {
            "text/plain": [
              "((4338, 32, 60, 1), (4338, 32, 60, 1))"
            ]
          },
          "metadata": {
            "tags": []
          },
          "execution_count": 66
        }
      ]
    },
    {
      "cell_type": "code",
      "metadata": {
        "id": "bNutU4PinubK",
        "colab_type": "code",
        "colab": {}
      },
      "source": [
        "train_mean = np.mean(train_grayscale, axis=0)\n",
        "train_std = np.std(train_grayscale, axis=0)\n",
        "train_grayscale_norm = (train_grayscale - train_mean) / train_std\n",
        "\n",
        "test_mean = np.mean(x3_test, axis=0)\n",
        "test_std = np.std(x3_test, axis=0)\n",
        "test_grayscale_norm = (x3_test - test_mean) / test_std"
      ],
      "execution_count": 0,
      "outputs": []
    },
    {
      "cell_type": "code",
      "metadata": {
        "id": "f3IUN17KN39K",
        "colab_type": "code",
        "outputId": "116adff8-da96-41e8-818f-99d737f70184",
        "colab": {
          "base_uri": "https://localhost:8080/",
          "height": 35
        }
      },
      "source": [
        "train_grayscale_norm.shape, y3_train.shape, test_grayscale_norm.shape, y3_test.shape"
      ],
      "execution_count": 68,
      "outputs": [
        {
          "output_type": "execute_result",
          "data": {
            "text/plain": [
              "((4338, 32, 60, 1), (4338, 3), (4338, 32, 60, 1), (4338, 3))"
            ]
          },
          "metadata": {
            "tags": []
          },
          "execution_count": 68
        }
      ]
    },
    {
      "cell_type": "markdown",
      "metadata": {
        "id": "Z2urJHJdEeAE",
        "colab_type": "text"
      },
      "source": [
        "## CNN model"
      ]
    },
    {
      "cell_type": "code",
      "metadata": {
        "id": "F4OudJPgPc0K",
        "colab_type": "code",
        "colab": {}
      },
      "source": [
        "BATCH_SIZE = 128\n",
        "\n",
        "train_ds = tf.data.Dataset.from_tensor_slices((train_grayscale_norm, y3_train)).shuffle(10000).batch(BATCH_SIZE)\n",
        "test_ds = tf.data.Dataset.from_tensor_slices((test_grayscale_norm, y3_test)).shuffle(10000).batch(BATCH_SIZE)"
      ],
      "execution_count": 0,
      "outputs": []
    },
    {
      "cell_type": "code",
      "metadata": {
        "id": "FC3TlZ28rL4c",
        "colab_type": "code",
        "colab": {}
      },
      "source": [
        "class MyModel(Model): \n",
        "  def __init__(self):\n",
        "    super(MyModel, self).__init__()\n",
        "    self.k = 10     \n",
        "    self.seq = 3    \n",
        "    self.conv1 = Conv2D(32, 3, padding=\"same\", activation=\"relu\")\n",
        "    self.pool1 = MaxPool2D(2, padding=\"same\")\n",
        "    self.conv2 = Conv2D(32, 3, padding='same', activation=\"relu\")  \n",
        "    self.pool2 = MaxPool2D(2, padding=\"same\")                       \n",
        "    self.flatten = Flatten()\n",
        "    self.d1 = Dense(128, activation=\"relu\")\n",
        "    self.d2 = Dense(self.k*self.seq)  \n",
        "\n",
        "  def call(self, x):\n",
        "    x = self.conv1(x)\n",
        "    x = self.pool1(x)  \n",
        "    x = self.conv2(x)\n",
        "    x = self.pool2(x)     \n",
        "    x = self.flatten(x) \n",
        "    x = self.d1(x)   \n",
        "    h = self.d2(x) \n",
        "    h = tf.reshape(h, [-1, self.seq, self.k]) \n",
        "    h = tf.nn.softmax(h, axis=2)   \n",
        "    return h\n",
        "\n",
        "model = MyModel()"
      ],
      "execution_count": 0,
      "outputs": []
    },
    {
      "cell_type": "code",
      "metadata": {
        "id": "bU47lMeCPPfS",
        "colab_type": "code",
        "colab": {}
      },
      "source": [
        "loss_object = tf.keras.losses.CategoricalCrossentropy()\n",
        "optimizer = tf.keras.optimizers.Adam(learning_rate=0.001)\n",
        "\n",
        "train_loss = tf.keras.metrics.Mean(name=\"train_loss\")\n",
        "train_accuracy = tf.keras.metrics.CategoricalAccuracy(name=\"train_acc\")\n",
        "\n",
        "test_loss = tf.keras.metrics.Mean(name='test_loss')\n",
        "test_accuracy = tf.keras.metrics.CategoricalAccuracy(name=\"test_acc\")"
      ],
      "execution_count": 0,
      "outputs": []
    },
    {
      "cell_type": "code",
      "metadata": {
        "id": "y2VOv88hPPnY",
        "colab_type": "code",
        "colab": {}
      },
      "source": [
        "@tf.function\n",
        "def train_step(images, labels):\n",
        "  y_hot = tf.one_hot(labels, depth=10, axis=-1)\n",
        "  with tf.GradientTape() as tape:\n",
        "    predictions = model(images)\n",
        "    loss = loss_object(y_hot, predictions)\n",
        "  grads = tape.gradient(loss, model.trainable_variables)\n",
        "  optimizer.apply_gradients(zip(grads, model.trainable_variables))\n",
        "\n",
        "  train_loss(loss)\n",
        "  train_accuracy(y_hot, predictions)"
      ],
      "execution_count": 0,
      "outputs": []
    },
    {
      "cell_type": "code",
      "metadata": {
        "id": "z38yevyoPPqC",
        "colab_type": "code",
        "colab": {}
      },
      "source": [
        "@tf.function\n",
        "def test_step(images, labels):\n",
        "  y_hot = tf.one_hot(labels, depth=10, axis=-1)\n",
        "  predictions = model(images)\n",
        "  t_loss = loss_object(y_hot, predictions)\n",
        "\n",
        "  test_loss(t_loss)\n",
        "  test_accuracy(y_hot, predictions)"
      ],
      "execution_count": 0,
      "outputs": []
    },
    {
      "cell_type": "code",
      "metadata": {
        "id": "xlFggmStPPwo",
        "colab_type": "code",
        "outputId": "03e43307-6c5a-46a3-a304-48c03c48cab4",
        "colab": {
          "base_uri": "https://localhost:8080/",
          "height": 251
        }
      },
      "source": [
        "EPOCHS = 500\n",
        "\n",
        "for epoch in range(EPOCHS):\n",
        "  for images, labels in train_ds:\n",
        "    train_step(images, labels)\n",
        "  \n",
        "  for test_images, labels in test_ds:\n",
        "    test_step(test_images, labels)\n",
        "  \n",
        "  template = \"에포크: {}, 손실: {}, 정확도: {}, 테스트 손실: {}, 테스트 정확도: {}\"\n",
        "  \n",
        "  if epoch%40==0:\n",
        "    print(template.format(epoch,\n",
        "                          train_loss.result(),\n",
        "                          train_accuracy.result()*100,\n",
        "                          test_loss.result(),\n",
        "                          test_accuracy.result()*100))"
      ],
      "execution_count": 89,
      "outputs": [
        {
          "output_type": "stream",
          "text": [
            "에포크: 0, 손실: 2.23038649559021, 정확도: 18.84893226623535, 테스트 손실: 2.1925623416900635, 테스트 정확도: 20.623943328857422\n",
            "에포크: 40, 손실: 0.2970573306083679, 정확도: 90.68038940429688, 테스트 손실: 1.5470421314239502, 테스트 정확도: 68.62478637695312\n",
            "에포크: 80, 손실: 0.15067939460277557, 정확도: 95.28266906738281, 테스트 손실: 1.8767503499984741, 테스트 정확도: 70.23480987548828\n",
            "에포크: 120, 손실: 0.1009187325835228, 정확도: 96.84211730957031, 테스트 손실: 2.0939059257507324, 테스트 정확도: 70.7218017578125\n",
            "에포크: 160, 손실: 0.07585880905389786, 정확도: 97.6266860961914, 테스트 손실: 2.2636795043945312, 테스트 정확도: 70.94261932373047\n",
            "에포크: 200, 손실: 0.060767777264118195, 정확도: 98.09898376464844, 테스트 손실: 2.4084596633911133, 테스트 정확도: 71.069580078125\n",
            "에포크: 240, 손실: 0.05068189650774002, 정확도: 98.41450500488281, 테스트 손실: 2.538325071334839, 테스트 정확도: 71.14674377441406\n",
            "에포크: 280, 손실: 0.04346739128232002, 정확도: 98.64019775390625, 테스트 손실: 2.6586077213287354, 테스트 정확도: 71.19824981689453\n",
            "에포크: 320, 손실: 0.03805089369416237, 정확도: 98.80964660644531, 테스트 손실: 2.772386074066162, 테스트 정확도: 71.23258972167969\n",
            "에포크: 360, 손실: 0.03383472561836243, 정확도: 98.94154357910156, 테스트 손실: 2.8813633918762207, 테스트 정확도: 71.25354766845703\n",
            "에포크: 400, 손실: 0.03045969270169735, 정확도: 99.04712677001953, 테스트 손실: 2.9866161346435547, 테스트 정확도: 71.26612854003906\n",
            "에포크: 440, 손실: 0.02769690752029419, 정확도: 99.13355255126953, 테스트 손실: 3.088658571243286, 테스트 정확도: 71.2719955444336\n",
            "에포크: 480, 손실: 0.02539363130927086, 정확도: 99.20560455322266, 테스트 손실: 3.187267303466797, 테스트 정확도: 71.275634765625\n"
          ],
          "name": "stdout"
        }
      ]
    }
  ]
}
