{
  "nbformat": 4,
  "nbformat_minor": 0,
  "metadata": {
    "colab": {
      "name": "small_project1_two_digits_with_blank.ipynb",
      "provenance": [],
      "collapsed_sections": [],
      "authorship_tag": "ABX9TyM8LGMCvKo6ERPKGaFjhtpB",
      "include_colab_link": true
    },
    "kernelspec": {
      "name": "python3",
      "display_name": "Python 3"
    },
    "accelerator": "GPU"
  },
  "cells": [
    {
      "cell_type": "markdown",
      "metadata": {
        "id": "view-in-github",
        "colab_type": "text"
      },
      "source": [
        "<a href=\"https://colab.research.google.com/github/Jin-jin-jara/Small-Project1---two_digits_with_blank_classification/blob/master/small_project1_two_digits_with_blank.ipynb\" target=\"_parent\"><img src=\"https://colab.research.google.com/assets/colab-badge.svg\" alt=\"Open In Colab\"/></a>"
      ]
    },
    {
      "cell_type": "markdown",
      "metadata": {
        "id": "TdmADYlaH2NI",
        "colab_type": "text"
      },
      "source": [
        "# small project - two digits with blank classification"
      ]
    },
    {
      "cell_type": "code",
      "metadata": {
        "id": "OBIQNeIP5Jax",
        "colab_type": "code",
        "outputId": "117abdeb-0a0d-4fc7-d1b2-0e9cc0cae6ad",
        "colab": {
          "base_uri": "https://localhost:8080/",
          "height": 53
        }
      },
      "source": [
        "# tensorflow 버전 2를 사용합니다.\n",
        "%tensorflow_version 2.x\n",
        "\n",
        "# 모델을 만들기 위한 라이브러리\n",
        "import tensorflow as tf\n",
        "from tensorflow import keras\n",
        "from tensorflow.keras.layers import Dense, Flatten, Conv2D, MaxPool2D, LSTM, Reshape, Activation, Dropout\n",
        "from tensorflow.keras import Model\n",
        "from keras import optimizers\n",
        "\n",
        "# 데이터 가공과 시각화를 위한 라이브러리\n",
        "import numpy as np\n",
        "import matplotlib.pyplot as plt"
      ],
      "execution_count": 1,
      "outputs": [
        {
          "output_type": "stream",
          "text": [
            "TensorFlow 2.x selected.\n"
          ],
          "name": "stdout"
        },
        {
          "output_type": "stream",
          "text": [
            "Using TensorFlow backend.\n"
          ],
          "name": "stderr"
        }
      ]
    },
    {
      "cell_type": "code",
      "metadata": {
        "id": "K_0EYmw95V7M",
        "colab_type": "code",
        "outputId": "0cfb9ab1-48ab-42e8-9893-8f56174ffbd4",
        "colab": {
          "base_uri": "https://localhost:8080/",
          "height": 35
        }
      },
      "source": [
        "# 이번 프로젝트에서 사용할 데이터셋\n",
        "from sklearn.datasets import load_digits\n",
        "\n",
        "x, y = load_digits(return_X_y=True)\n",
        "\n",
        "# 1797개의 8*8 이미지들. 각 이미지들은 0~9까지의 숫자입니다.\n",
        "x.shape, y.shape, set(y)"
      ],
      "execution_count": 2,
      "outputs": [
        {
          "output_type": "execute_result",
          "data": {
            "text/plain": [
              "((1797, 64), (1797,), {0, 1, 2, 3, 4, 5, 6, 7, 8, 9})"
            ]
          },
          "metadata": {
            "tags": []
          },
          "execution_count": 2
        }
      ]
    },
    {
      "cell_type": "markdown",
      "metadata": {
        "id": "p7jYu_5COdCX",
        "colab_type": "text"
      },
      "source": [
        "데이터를 train 셋과 test셋을 나눕니다. train 셋과 test셋을 또 절반으로 나눠 좌우로 붙일 것이기 때문에 짝수개의 이미지가 필요합니다.하지만 전체 데이터는 홀수개이기 때문에 마지막 한 개는 사용하지 않겠습니다."
      ]
    },
    {
      "cell_type": "code",
      "metadata": {
        "id": "04PE9ia_5eai",
        "colab_type": "code",
        "outputId": "49f0540b-9696-4d07-f2fc-0e808ffb61ab",
        "colab": {
          "base_uri": "https://localhost:8080/",
          "height": 35
        }
      },
      "source": [
        "m = len(x)//2\n",
        "x_train = x[:m]\n",
        "y_train = y[:m]\n",
        "x_test = x[m:m*2]\n",
        "y_test = y[m:m*2]\n",
        "\n",
        "x_train.shape, x_test.shape"
      ],
      "execution_count": 3,
      "outputs": [
        {
          "output_type": "execute_result",
          "data": {
            "text/plain": [
              "((898, 64), (898, 64))"
            ]
          },
          "metadata": {
            "tags": []
          },
          "execution_count": 3
        }
      ]
    },
    {
      "cell_type": "markdown",
      "metadata": {
        "id": "x5ezkIMuO2Ct",
        "colab_type": "text"
      },
      "source": [
        "데이터를 반으로 나누고 좌우로 붙이는 함수입니다. 오른쪽 이미지에는 빈 이미지도 추가합니다. 정답인 label 또한 비슷한 작업을 해줍니다."
      ]
    },
    {
      "cell_type": "code",
      "metadata": {
        "id": "QJK1ZnCH7moP",
        "colab_type": "code",
        "colab": {}
      },
      "source": [
        "def convert_2_num(x_data, y_data):\n",
        "  x_data = np.reshape(x_data, [-1, 8, 8])\n",
        "  x_data_l, x_data_r = np.split(x_data, 2, axis=0)\n",
        "  x_data_lr = np.concatenate((x_data_l, x_data_r), axis=2)\n",
        "  y_data_l, y_data_r = np.split(y_data, 2, axis=0)\n",
        "  y_data = np.stack((y_data_l, y_data_r), -1)\n",
        "\n",
        "  BLANK = 10  # 없음을 뜻하는 기호\n",
        "\n",
        "  x_data_blank = np.concatenate((x_data_l, np.zeros_like(x_data_r)), axis=2)\n",
        "  y_data_blank = np.stack((y_data_l, np.zeros_like(y_data_l)+BLANK), 1)\n",
        "\n",
        "  x_data_set = np.concatenate((x_data_lr, x_data_blank), 0)\n",
        "  y_data_set = np.concatenate((y_data, y_data_blank), 0)\n",
        "\n",
        "  return x_data_set, y_data_set"
      ],
      "execution_count": 0,
      "outputs": []
    },
    {
      "cell_type": "markdown",
      "metadata": {
        "id": "HhGyNKznGuns",
        "colab_type": "text"
      },
      "source": [
        "각 이미지당 8x16 픽셀의 데이터가 만들어졌습니다. train, test 각각 898개의 이미지를 갖고 있습니다."
      ]
    },
    {
      "cell_type": "code",
      "metadata": {
        "id": "zH2f7Hyj-4iq",
        "colab_type": "code",
        "outputId": "ad02cae5-9a9a-48dc-8a87-b62e703f4c2a",
        "colab": {
          "base_uri": "https://localhost:8080/",
          "height": 35
        }
      },
      "source": [
        "x_train_set, y_train_set = convert_2_num(x_train, y_train)\n",
        "x_test_set, y_test_set = convert_2_num(x_test, y_test)\n",
        "x_train_set.shape, x_test_set.shape"
      ],
      "execution_count": 5,
      "outputs": [
        {
          "output_type": "execute_result",
          "data": {
            "text/plain": [
              "((898, 8, 16), (898, 8, 16))"
            ]
          },
          "metadata": {
            "tags": []
          },
          "execution_count": 5
        }
      ]
    },
    {
      "cell_type": "markdown",
      "metadata": {
        "id": "PkIkx8AgHE9V",
        "colab_type": "text"
      },
      "source": [
        "만든 숫자 이미지가 좌우에 잘 붙었나 살펴보겠습니다."
      ]
    },
    {
      "cell_type": "code",
      "metadata": {
        "id": "hARqtgYAGUTq",
        "colab_type": "code",
        "outputId": "51b671e8-69c9-4ebe-b99e-74e5d8e36d3c",
        "colab": {
          "base_uri": "https://localhost:8080/",
          "height": 249
        }
      },
      "source": [
        "i = 100\n",
        "plt.title(\"y:\"+str(y_train_set[i]))\n",
        "plt.imshow(x_train_set[i])"
      ],
      "execution_count": 6,
      "outputs": [
        {
          "output_type": "execute_result",
          "data": {
            "text/plain": [
              "<matplotlib.image.AxesImage at 0x7f53578e5ba8>"
            ]
          },
          "metadata": {
            "tags": []
          },
          "execution_count": 6
        },
        {
          "output_type": "display_data",
          "data": {
            "image/png": "[encoded data removed]",
            "text/plain": [
              "<Figure size 432x288 with 1 Axes>"
            ]
          },
          "metadata": {
            "tags": []
          }
        }
      ]
    },
    {
      "cell_type": "code",
      "metadata": {
        "id": "U6a-x1zjHRvF",
        "colab_type": "code",
        "outputId": "f6105734-d88a-4d44-f57e-7c01a84f1656",
        "colab": {
          "base_uri": "https://localhost:8080/",
          "height": 249
        }
      },
      "source": [
        "i = 800\n",
        "plt.title(\"y:\"+str(y_train_set[i]))\n",
        "plt.imshow(x_train_set[i])"
      ],
      "execution_count": 7,
      "outputs": [
        {
          "output_type": "execute_result",
          "data": {
            "text/plain": [
              "<matplotlib.image.AxesImage at 0x7f53577b3be0>"
            ]
          },
          "metadata": {
            "tags": []
          },
          "execution_count": 7
        },
        {
          "output_type": "display_data",
          "data": {
            "image/png": "[encoded data removed]",
            "text/plain": [
              "<Figure size 432x288 with 1 Axes>"
            ]
          },
          "metadata": {
            "tags": []
          }
        }
      ]
    },
    {
      "cell_type": "markdown",
      "metadata": {
        "id": "vNHTGfUhHbg9",
        "colab_type": "text"
      },
      "source": [
        "숫자가 양 옆으로 잘 붙었습니다. 숫자 이미지와 한쪽이 빈 공간인 데이터도 잘 출력됩니다."
      ]
    },
    {
      "cell_type": "markdown",
      "metadata": {
        "id": "PS1EXnRbINvc",
        "colab_type": "text"
      },
      "source": [
        "CNN모델은 4차원(데이터수(m), 너비(w), 높이(h), 채널(c))의 데이터를 입력으로 받습니다. 하지만 만들어진 데이터셋은 (데이터수, 너비, 높이)만 있으므로 채널 차원을 추가해줍니다. 채널은 1로 사용하겠습니다."
      ]
    },
    {
      "cell_type": "code",
      "metadata": {
        "id": "j-ZfYGm1H8uX",
        "colab_type": "code",
        "outputId": "35bbeb09-3ad9-411c-f318-df3cb168d6e2",
        "colab": {
          "base_uri": "https://localhost:8080/",
          "height": 35
        }
      },
      "source": [
        "x_train_set = x_train_set[..., tf.newaxis]\n",
        "x_test_set = x_test_set[..., tf.newaxis]\n",
        "x_train_set.shape, x_test_set.shape"
      ],
      "execution_count": 8,
      "outputs": [
        {
          "output_type": "execute_result",
          "data": {
            "text/plain": [
              "((898, 8, 16, 1), (898, 8, 16, 1))"
            ]
          },
          "metadata": {
            "tags": []
          },
          "execution_count": 8
        }
      ]
    },
    {
      "cell_type": "code",
      "metadata": {
        "id": "r4XbDa8TgWSO",
        "colab_type": "code",
        "outputId": "5efc7374-f378-40d8-841b-1e6ddb9af328",
        "colab": {
          "base_uri": "https://localhost:8080/",
          "height": 35
        }
      },
      "source": [
        "x_train_set.shape, x_test_set.shape, y_train_set.shape, y_test_set.shape"
      ],
      "execution_count": 9,
      "outputs": [
        {
          "output_type": "execute_result",
          "data": {
            "text/plain": [
              "((898, 8, 16, 1), (898, 8, 16, 1), (898, 2), (898, 2))"
            ]
          },
          "metadata": {
            "tags": []
          },
          "execution_count": 9
        }
      ]
    },
    {
      "cell_type": "markdown",
      "metadata": {
        "id": "pLX17_GPJGL_",
        "colab_type": "text"
      },
      "source": [
        "배치 사이즈를 정하고 데이터를 데이터 소스로 만듭니다."
      ]
    },
    {
      "cell_type": "code",
      "metadata": {
        "id": "8wxYci0gIkxI",
        "colab_type": "code",
        "colab": {}
      },
      "source": [
        "BATCH_SIZE = 32\n",
        "\n",
        "train_ds = tf.data.Dataset.from_tensor_slices((x_train_set, y_train_set)).shuffle(10000).batch(BATCH_SIZE)\n",
        "test_ds = tf.data.Dataset.from_tensor_slices((x_test_set, y_test_set)).shuffle(10000).batch(BATCH_SIZE)"
      ],
      "execution_count": 0,
      "outputs": []
    },
    {
      "cell_type": "markdown",
      "metadata": {
        "id": "sxg7pw-5V2a1",
        "colab_type": "text"
      },
      "source": [
        "## Sequential을 이용한 CNN 모델"
      ]
    },
    {
      "cell_type": "markdown",
      "metadata": {
        "id": "maWt_dAnU2bX",
        "colab_type": "text"
      },
      "source": [
        "첫 번째 모델은 keras의 Sequential을 사용해 만들어보겠습니다. keras에서 제공하는 Sequential 모델로 딥러닝 네트워크를 아주 쉽게 만들 수 있습니다."
      ]
    },
    {
      "cell_type": "code",
      "metadata": {
        "id": "C6wP2RoczDh-",
        "colab_type": "code",
        "outputId": "08fe85fa-699e-46c5-a812-e39187138e53",
        "colab": {
          "base_uri": "https://localhost:8080/",
          "height": 557
        }
      },
      "source": [
        "def build_model():\n",
        "  model = keras.Sequential()\n",
        "  model.add(Conv2D(32, 3, padding=\"same\", input_shape=(8, 16, 1)))\n",
        "  model.add(MaxPool2D(2, padding=\"same\"))\n",
        "  model.add(Conv2D(32, 3, padding=\"same\"))\n",
        "  model.add(MaxPool2D(2, padding=\"same\"))\n",
        "  model.add(Conv2D(32, 3, padding=\"same\"))\n",
        "  model.add(MaxPool2D(2, padding=\"same\"))\n",
        "  model.add(Flatten())\n",
        "  model.add(Dense(64, activation='relu'))\n",
        "  model.add(Dense(22))\n",
        "  model.add(Reshape((2, 11)))  # (m, 2, 11)\n",
        "  model.add(Activation('softmax'))\n",
        "  adam = tf.keras.optimizers.Adam(lr = 0.001)\n",
        "  model.compile(loss=\"sparse_categorical_crossentropy\", optimizer=adam, metrics=['accuracy'])\n",
        "  model.summary()\n",
        "  return model\n",
        "\n",
        "model = build_model()"
      ],
      "execution_count": 17,
      "outputs": [
        {
          "output_type": "stream",
          "text": [
            "Model: \"sequential_3\"\n",
            "_________________________________________________________________\n",
            "Layer (type)                 Output Shape              Param #   \n",
            "=================================================================\n",
            "conv2d_9 (Conv2D)            (None, 8, 16, 32)         320       \n",
            "_________________________________________________________________\n",
            "max_pooling2d_9 (MaxPooling2 (None, 4, 8, 32)          0         \n",
            "_________________________________________________________________\n",
            "conv2d_10 (Conv2D)           (None, 4, 8, 32)          9248      \n",
            "_________________________________________________________________\n",
            "max_pooling2d_10 (MaxPooling (None, 2, 4, 32)          0         \n",
            "_________________________________________________________________\n",
            "conv2d_11 (Conv2D)           (None, 2, 4, 32)          9248      \n",
            "_________________________________________________________________\n",
            "max_pooling2d_11 (MaxPooling (None, 1, 2, 32)          0         \n",
            "_________________________________________________________________\n",
            "flatten_3 (Flatten)          (None, 64)                0         \n",
            "_________________________________________________________________\n",
            "dense_6 (Dense)              (None, 64)                4160      \n",
            "_________________________________________________________________\n",
            "dense_7 (Dense)              (None, 22)                1430      \n",
            "_________________________________________________________________\n",
            "reshape_3 (Reshape)          (None, 2, 11)             0         \n",
            "_________________________________________________________________\n",
            "activation_3 (Activation)    (None, 2, 11)             0         \n",
            "=================================================================\n",
            "Total params: 24,406\n",
            "Trainable params: 24,406\n",
            "Non-trainable params: 0\n",
            "_________________________________________________________________\n"
          ],
          "name": "stdout"
        }
      ]
    },
    {
      "cell_type": "code",
      "metadata": {
        "id": "beSv-XuM5BOu",
        "colab_type": "code",
        "outputId": "462ee884-4954-4a78-af16-d60b0d1f817c",
        "colab": {
          "base_uri": "https://localhost:8080/",
          "height": 35
        }
      },
      "source": [
        "model.fit(x_train_set, y_train_set, batch_size = 32, epochs=100, validation_split=0.3,shuffle=True, verbose=0)"
      ],
      "execution_count": 18,
      "outputs": [
        {
          "output_type": "execute_result",
          "data": {
            "text/plain": [
              "<tensorflow.python.keras.callbacks.History at 0x7f532810fd30>"
            ]
          },
          "metadata": {
            "tags": []
          },
          "execution_count": 18
        }
      ]
    },
    {
      "cell_type": "code",
      "metadata": {
        "id": "5bVQquanFyqX",
        "colab_type": "code",
        "outputId": "a87d6762-1291-4638-ac20-247649d89907",
        "colab": {
          "base_uri": "https://localhost:8080/",
          "height": 70
        }
      },
      "source": [
        "loss_metrics = model.evaluate(x_test_set, y_test_set,batch_size=32)\n",
        "print('evaluation loss and_metrics')\n",
        "print(loss_metrics)"
      ],
      "execution_count": 0,
      "outputs": [
        {
          "output_type": "stream",
          "text": [
            "898/898 [==============================] - 0s 79us/sample - loss: 0.3431 - accuracy: 0.9271\n",
            "evaluation loss and_metrics\n",
            "[0.34310407153229494, 0.9270601]\n"
          ],
          "name": "stdout"
        }
      ]
    },
    {
      "cell_type": "markdown",
      "metadata": {
        "id": "9CC7H04ZZRtP",
        "colab_type": "text"
      },
      "source": [
        "train 셋에 대한 정확도는 거의 100%에 가깝고 test 셋의 정확도는 92.7%가 나옵니다."
      ]
    },
    {
      "cell_type": "markdown",
      "metadata": {
        "id": "IJe-LxdtKN42",
        "colab_type": "text"
      },
      "source": [
        "## 텐서플로 2.0 시작하기: 전문가용\n",
        "이번에는 직접 모델을 설계해보겠습니다. 이 모델은 tensorflow 홈페이지의 전문가용 코드를 참고해 만들었습니다. (https://www.tensorflow.org/tutorials/quickstart/advanced?hl=ko)"
      ]
    },
    {
      "cell_type": "markdown",
      "metadata": {
        "id": "leG7ZUSIVlc1",
        "colab_type": "text"
      },
      "source": [
        "### model"
      ]
    },
    {
      "cell_type": "code",
      "metadata": {
        "id": "4Q1sncqMGm1f",
        "colab_type": "code",
        "colab": {}
      },
      "source": [
        "class MyModel(Model): \n",
        "  def __init__(self):\n",
        "    super(MyModel, self).__init__()\n",
        "    self.k = 11     # 클래스 개수 (0 ~ 10까지, 10은 빈 이미지를 뜻함)\n",
        "    self.seq = 2     # 자리수 (오른쪽, 왼쪽 두 자리를 예측해야함)\n",
        "    self.conv1 = Conv2D(32, 3, padding=\"same\")\n",
        "    self.pool1 = MaxPool2D(2, padding=\"same\")\n",
        "    self.conv2 = Conv2D(32, 3, padding='same')\n",
        "    self.pool2 = MaxPool2D(2, padding=\"same\")\n",
        "    self.conv3 = Conv2D(32, 3, padding='same')\n",
        "    self.pool3 = MaxPool2D(2, padding=\"same\")\n",
        "    self.flatten = Flatten()\n",
        "    self.d1 = Dense(128, activation=\"relu\")\n",
        "    self.d2 = Dense(self.k*self.seq)   # 22\n",
        "\n",
        "  def call(self, x):\n",
        "    # (m, 8, 16, 1)\n",
        "    x = self.conv1(x) \n",
        "    x = self.pool1(x)  # (m, 4, 8, 32)\n",
        "    x = self.conv2(x)\n",
        "    x = self.pool2(x)  # (m, 2, 4, 32)\n",
        "    x = self.conv3(x)\n",
        "    x = self.pool3(x)  # (m, 1, 2, 32)\n",
        "    x = self.flatten(x)  # (m, 64)\n",
        "    x = self.d1(x)   # (m, 128)\n",
        "    h = self.d2(x)  # (m, 22)\n",
        "    # 두 자리 숫자 [0~10, 0~10]에 대한 예측을 진행해야 하므로 reshape해줍니다.\n",
        "    h = tf.reshape(h, [-1, self.seq, self.k]) # (m, 2, 11)\n",
        "    h = tf.nn.softmax(h, axis=2)   \n",
        "    return h\n",
        "\n",
        "model = MyModel()"
      ],
      "execution_count": 0,
      "outputs": []
    },
    {
      "cell_type": "markdown",
      "metadata": {
        "id": "qrjJ63iDQo3l",
        "colab_type": "text"
      },
      "source": [
        "loss function, optimizer, metrics를 설정해줍니다."
      ]
    },
    {
      "cell_type": "code",
      "metadata": {
        "id": "G9WAvWbDKU-Q",
        "colab_type": "code",
        "colab": {}
      },
      "source": [
        "# 분류에 관한 문제이기 때문에 cross entropy함수를 비용 함수로 사용합니다.\n",
        "# label을 one-hot encoding 했기 때문에 SparseCategoricalCrossentropy 함수가 아닌 CategoricalCrossentropy 함수를 사용합니다.\n",
        "loss_object = tf.keras.losses.CategoricalCrossentropy()\n",
        "optimizer = tf.keras.optimizers.Adam(learning_rate=0.001)\n",
        "\n",
        "train_loss = tf.keras.metrics.Mean(name=\"train_loss\")\n",
        "train_accuracy = tf.keras.metrics.CategoricalAccuracy(name=\"train_acc\")\n",
        "\n",
        "test_loss = tf.keras.metrics.Mean(name='test_loss')\n",
        "test_accuracy = tf.keras.metrics.CategoricalAccuracy(name=\"test_acc\")"
      ],
      "execution_count": 0,
      "outputs": []
    },
    {
      "cell_type": "markdown",
      "metadata": {
        "id": "QkGahwBZQ4zP",
        "colab_type": "text"
      },
      "source": [
        "train과 test를 위한 함수입니다."
      ]
    },
    {
      "cell_type": "code",
      "metadata": {
        "id": "keoCsF2HcLOP",
        "colab_type": "code",
        "colab": {}
      },
      "source": [
        "@tf.function\n",
        "def train_step(images, labels):\n",
        "  y_hot = tf.one_hot(labels, depth=11, axis=-1)\n",
        "  with tf.GradientTape() as tape:\n",
        "    predictions = model(images) # (m, 8, 16, 1)\n",
        "    loss = loss_object(y_hot, predictions)\n",
        "  grads = tape.gradient(loss, model.trainable_variables)\n",
        "  optimizer.apply_gradients(zip(grads, model.trainable_variables))\n",
        "\n",
        "  train_loss(loss)\n",
        "  train_accuracy(y_hot, predictions)"
      ],
      "execution_count": 0,
      "outputs": []
    },
    {
      "cell_type": "code",
      "metadata": {
        "id": "51BZ_6zhdGuY",
        "colab_type": "code",
        "colab": {}
      },
      "source": [
        "@tf.function\n",
        "def test_step(images, labels):\n",
        "  y_hot = tf.one_hot(labels, depth=11, axis=-1)\n",
        "  predictions = model(images)\n",
        "  t_loss = loss_object(y_hot, predictions)\n",
        "\n",
        "  test_loss(t_loss)\n",
        "  test_accuracy(y_hot, predictions)"
      ],
      "execution_count": 0,
      "outputs": []
    },
    {
      "cell_type": "code",
      "metadata": {
        "id": "j1yyG7imeczb",
        "colab_type": "code",
        "outputId": "f156d4d6-fa4d-45af-bad7-113da9f7cfa8",
        "colab": {
          "base_uri": "https://localhost:8080/",
          "height": 494
        }
      },
      "source": [
        "EPOCHS = 800\n",
        "\n",
        "for epoch in range(EPOCHS):\n",
        "  for images, labels in train_ds: # batch size = 32씩 나눠져 들어갑니다\n",
        "    train_step(images, labels)\n",
        "  \n",
        "  for test_images, labels in test_ds:\n",
        "    test_step(test_images, labels)\n",
        "  \n",
        "  template = \"에포크: {}, 손실: {}, 정확도: {}, 테스트 손실: {}, 테스트 정확도: {}\"\n",
        "  \n",
        "  if epoch%40==0:\n",
        "    print(template.format(epoch,\n",
        "                          train_loss.result(),\n",
        "                          train_accuracy.result()*100,\n",
        "                          test_loss.result(),\n",
        "                          test_accuracy.result()*100))"
      ],
      "execution_count": 0,
      "outputs": [
        {
          "output_type": "stream",
          "text": [
            "WARNING:tensorflow:Layer my_model is casting an input tensor from dtype float64 to the layer's dtype of float32, which is new behavior in TensorFlow 2.  The layer has dtype float32 because it's dtype defaults to floatx.\n",
            "\n",
            "If you intended to run this layer in float32, you can safely ignore this warning. If in doubt, this warning is likely only an issue if you are porting a TensorFlow 1.X model to TensorFlow 2.\n",
            "\n",
            "To change all layers to have dtype float64 by default, call `tf.keras.backend.set_floatx('float64')`. To change just this layer, pass dtype='float64' to the layer constructor. If you are the author of this layer, you can disable autocasting by passing autocast=False to the base Layer constructor.\n",
            "\n",
            "에포크: 0, 손실: 1.8129262924194336, 정확도: 39.587974548339844, 테스트 손실: 1.4180071353912354, 테스트 정확도: 56.2917594909668\n",
            "에포크: 40, 손실: 0.0986887514591217, 정확도: 97.044921875, 테스트 손실: 0.3657163381576538, 테스트 정확도: 90.64452362060547\n",
            "에포크: 80, 손실: 0.050039589405059814, 정확도: 98.50421905517578, 테스트 손실: 0.358181893825531, 테스트 정확도: 91.83782958984375\n",
            "에포크: 120, 손실: 0.03351296856999397, 정확도: 98.99869537353516, 테스트 손실: 0.3692639470100403, 테스트 정확도: 92.25689697265625\n",
            "에포크: 160, 손실: 0.02519114315509796, 정확도: 99.24746704101562, 테스트 손실: 0.3803045451641083, 테스트 정확도: 92.4874496459961\n",
            "에포크: 200, 손실: 0.020179588347673416, 정확도: 99.39722442626953, 테스트 손실: 0.39208778738975525, 테스트 정확도: 92.62484741210938\n",
            "에포크: 240, 손실: 0.016830766573548317, 정확도: 99.49726867675781, 테스트 손실: 0.4028720259666443, 테스트 정확도: 92.73211669921875\n",
            "에포크: 280, 손실: 0.014434941112995148, 정확도: 99.56883239746094, 테스트 손실: 0.4150567352771759, 테스트 정확도: 92.82569122314453\n",
            "에포크: 320, 손실: 0.012636194005608559, 정확도: 99.62255859375, 테스트 손실: 0.42591211199760437, 테스트 정확도: 92.89854431152344\n",
            "에포크: 360, 손실: 0.01123606227338314, 정확도: 99.66438293457031, 테스트 손실: 0.43600356578826904, 테스트 정확도: 92.9560317993164\n",
            "에포크: 400, 손실: 0.01011525746434927, 정확도: 99.69786071777344, 테스트 손실: 0.44562146067619324, 테스트 정확도: 93.00176239013672\n",
            "에포크: 440, 손실: 0.009197774343192577, 정확도: 99.72526550292969, 테스트 손실: 0.4553956985473633, 테스트 정확도: 93.04792022705078\n",
            "에포크: 480, 손실: 0.008432886563241482, 정확도: 99.74810791015625, 테스트 손실: 0.46503084897994995, 테스트 정확도: 93.08963775634766\n",
            "에포크: 520, 손실: 0.007785447873175144, 정확도: 99.7674560546875, 테스트 손실: 0.4747580885887146, 테스트 정확도: 93.1255874633789\n",
            "에포크: 560, 손실: 0.007230335846543312, 정확도: 99.7840347290039, 테스트 손실: 0.48374801874160767, 테스트 정확도: 93.16484832763672\n",
            "에포크: 600, 손실: 0.006749115418642759, 정확도: 99.79840850830078, 테스트 손실: 0.492080420255661, 테스트 정확도: 93.21295928955078\n",
            "에포크: 640, 손실: 0.006327953655272722, 정확도: 99.81098937988281, 테스트 손실: 0.5012566447257996, 테스트 정확도: 93.27062225341797\n",
            "에포크: 680, 손실: 0.005956267938017845, 정확도: 99.82208251953125, 테스트 손실: 0.5093371272087097, 테스트 정확도: 93.32093811035156\n",
            "에포크: 720, 손실: 0.007357514463365078, 정확도: 99.81218719482422, 테스트 손실: 0.5075134038925171, 테스트 정확도: 93.27909851074219\n",
            "에포크: 760, 손실: 0.006973162293434143, 정확도: 99.82205963134766, 테스트 손실: 0.504265546798706, 테스트 정확도: 93.24810028076172\n"
          ],
          "name": "stdout"
        }
      ]
    },
    {
      "cell_type": "markdown",
      "metadata": {
        "id": "DIHKxT4FSzv1",
        "colab_type": "text"
      },
      "source": [
        "train 정확도 99.8%, 테스트 정확도 93.2%로 준수합니다. 하지만 overfitting이 일어난 것 같으니 dropout기법을 적용하여 test 정확도를 조금 더 올려보겠습니다."
      ]
    },
    {
      "cell_type": "markdown",
      "metadata": {
        "id": "nisTpjADVurd",
        "colab_type": "text"
      },
      "source": [
        "### model2 : dropout"
      ]
    },
    {
      "cell_type": "markdown",
      "metadata": {
        "id": "0qe06zr2X_te",
        "colab_type": "text"
      },
      "source": [
        "모델의 overfitting을 방지하기 위해 dropout층을 추가했습니다."
      ]
    },
    {
      "cell_type": "code",
      "metadata": {
        "id": "qy9XE1I0ViT1",
        "colab_type": "code",
        "colab": {}
      },
      "source": [
        "class MyModel(Model): \n",
        "  def __init__(self):\n",
        "    super(MyModel, self).__init__()\n",
        "    self.k = 11     \n",
        "    self.seq = 2    \n",
        "    self.conv1 = Conv2D(32, 3, padding=\"same\")\n",
        "    self.pool1 = MaxPool2D(2, padding=\"same\")\n",
        "    self.conv2 = Conv2D(32, 3, padding='same')\n",
        "    self.pool2 = MaxPool2D(2, padding=\"same\")\n",
        "    self.conv3 = Conv2D(32, 3, padding='same')\n",
        "    self.pool3 = MaxPool2D(2, padding=\"same\")\n",
        "    self.dropout = Dropout(rate=0.5)    # 추가한 부분\n",
        "    self.flatten = Flatten()\n",
        "    self.d1 = Dense(128, activation=\"relu\")\n",
        "    self.d2 = Dense(self.k*self.seq) \n",
        "\n",
        "  def call(self, x):\n",
        "    x = self.conv1(x) \n",
        "    x = self.pool1(x)  \n",
        "    x = self.dropout(x)  # 추가한 부분\n",
        "    x = self.conv2(x)\n",
        "    x = self.pool2(x) \n",
        "    x = self.dropout(x)   # 추가한 부분\n",
        "    x = self.conv3(x)\n",
        "    x = self.pool3(x)  \n",
        "    x = self.flatten(x)\n",
        "    x = self.d1(x)\n",
        "    x = self.dropout(x)   # 추가한 부분\n",
        "    h = self.d2(x) \n",
        "    h = tf.reshape(h, [-1, self.seq, self.k])\n",
        "    h = tf.nn.softmax(h, axis=2)   \n",
        "    return h\n",
        "\n",
        "model = MyModel()"
      ],
      "execution_count": 0,
      "outputs": []
    },
    {
      "cell_type": "code",
      "metadata": {
        "id": "f8HehVe7WAn1",
        "colab_type": "code",
        "colab": {}
      },
      "source": [
        "loss_object = tf.keras.losses.CategoricalCrossentropy()\n",
        "optimizer = tf.keras.optimizers.Adam(learning_rate=0.001)\n",
        "\n",
        "train_loss = tf.keras.metrics.Mean(name=\"train_loss\")\n",
        "train_accuracy = tf.keras.metrics.CategoricalAccuracy(name=\"train_acc\")\n",
        "\n",
        "test_loss = tf.keras.metrics.Mean(name='test_loss')\n",
        "test_accuracy = tf.keras.metrics.CategoricalAccuracy(name=\"test_acc\")"
      ],
      "execution_count": 0,
      "outputs": []
    },
    {
      "cell_type": "code",
      "metadata": {
        "id": "gcPV2rOaWAq0",
        "colab_type": "code",
        "colab": {}
      },
      "source": [
        "@tf.function\n",
        "def train_step(images, labels):\n",
        "  y_hot = tf.one_hot(labels, depth=11, axis=-1)\n",
        "  with tf.GradientTape() as tape:\n",
        "    predictions = model(images) # (m, 8, 16, 1)\n",
        "    loss = loss_object(y_hot, predictions)\n",
        "  grads = tape.gradient(loss, model.trainable_variables)\n",
        "  optimizer.apply_gradients(zip(grads, model.trainable_variables))\n",
        "\n",
        "  train_loss(loss)\n",
        "  train_accuracy(y_hot, predictions)"
      ],
      "execution_count": 0,
      "outputs": []
    },
    {
      "cell_type": "code",
      "metadata": {
        "id": "C-VbCPYVWAts",
        "colab_type": "code",
        "colab": {}
      },
      "source": [
        "@tf.function\n",
        "def test_step(images, labels):\n",
        "  y_hot = tf.one_hot(labels, depth=11, axis=-1)\n",
        "  predictions = model(images)\n",
        "  t_loss = loss_object(y_hot, predictions)\n",
        "\n",
        "  test_loss(t_loss)\n",
        "  test_accuracy(y_hot, predictions)"
      ],
      "execution_count": 0,
      "outputs": []
    },
    {
      "cell_type": "code",
      "metadata": {
        "id": "wBMv9gTqWAxc",
        "colab_type": "code",
        "outputId": "43949973-e7f0-4f03-ceba-fa8b52b6b5fc",
        "colab": {
          "base_uri": "https://localhost:8080/",
          "height": 494
        }
      },
      "source": [
        "EPOCHS = 800\n",
        "\n",
        "for epoch in range(EPOCHS):\n",
        "  for images, labels in train_ds: # batch size = 32씩 나눠져 들어갑니다\n",
        "    train_step(images, labels)\n",
        "  \n",
        "  for test_images, labels in test_ds:\n",
        "    test_step(test_images, labels)\n",
        "  \n",
        "  template = \"에포크: {}, 손실: {}, 정확도: {}, 테스트 손실: {}, 테스트 정확도: {}\"\n",
        "  \n",
        "  if epoch%40==0:\n",
        "    print(template.format(epoch,\n",
        "                          train_loss.result(),\n",
        "                          train_accuracy.result()*100,\n",
        "                          test_loss.result(),\n",
        "                          test_accuracy.result()*100))"
      ],
      "execution_count": 0,
      "outputs": [
        {
          "output_type": "stream",
          "text": [
            "WARNING:tensorflow:Layer my_model_2 is casting an input tensor from dtype float64 to the layer's dtype of float32, which is new behavior in TensorFlow 2.  The layer has dtype float32 because it's dtype defaults to floatx.\n",
            "\n",
            "If you intended to run this layer in float32, you can safely ignore this warning. If in doubt, this warning is likely only an issue if you are porting a TensorFlow 1.X model to TensorFlow 2.\n",
            "\n",
            "To change all layers to have dtype float64 by default, call `tf.keras.backend.set_floatx('float64')`. To change just this layer, pass dtype='float64' to the layer constructor. If you are the author of this layer, you can disable autocasting by passing autocast=False to the base Layer constructor.\n",
            "\n",
            "에포크: 0, 손실: 1.691123127937317, 정확도: 42.093544006347656, 테스트 손실: 1.3450655937194824, 테스트 정확도: 58.57461166381836\n",
            "에포크: 40, 손실: 0.09106644988059998, 정확도: 97.2812271118164, 테스트 손실: 0.3153878152370453, 테스트 정확도: 91.75267791748047\n",
            "에포크: 80, 손실: 0.04617966338992119, 정확도: 98.62383270263672, 테스트 손실: 0.30044013261795044, 테스트 정확도: 92.94316864013672\n",
            "에포크: 120, 손실: 0.03092942200601101, 정확도: 99.07876586914062, 테스트 손실: 0.30383631587028503, 테스트 정확도: 93.38520812988281\n",
            "에포크: 160, 손실: 0.023249594494700432, 정확도: 99.3076400756836, 테스트 손실: 0.30945277214050293, 테스트 정확도: 93.6401138305664\n",
            "에포크: 200, 손실: 0.018624380230903625, 정확도: 99.44541931152344, 테스트 손실: 0.31619301438331604, 테스트 정확도: 93.81987762451172\n",
            "에포크: 240, 손실: 0.01553366519510746, 정확도: 99.53746795654297, 테스트 손실: 0.32436931133270264, 테스트 정확도: 93.93719482421875\n",
            "에포크: 280, 손실: 0.013322476297616959, 정확도: 99.60330963134766, 테스트 손실: 0.332393616437912, 테스트 정확도: 94.0179443359375\n",
            "에포크: 320, 손실: 0.011662356555461884, 정확도: 99.65274047851562, 테스트 손실: 0.3421171009540558, 테스트 정확도: 94.07180786132812\n",
            "에포크: 360, 손실: 0.01037012878805399, 정확도: 99.69121551513672, 테스트 손실: 0.35099971294403076, 테스트 정확도: 94.11109924316406\n",
            "에포크: 400, 손실: 0.009335702285170555, 정확도: 99.7220230102539, 테스트 손실: 0.35874703526496887, 테스트 정확도: 94.14034271240234\n",
            "에포크: 440, 손실: 0.008488926105201244, 정확도: 99.74723815917969, 테스트 손실: 0.3660822808742523, 테스트 정확도: 94.16667938232422\n",
            "에포크: 480, 손실: 0.007782986853271723, 정확도: 99.76824951171875, 테스트 손실: 0.37360113859176636, 테스트 정확도: 94.19002532958984\n",
            "에포크: 520, 손실: 0.007185444235801697, 정확도: 99.78604888916016, 테스트 손실: 0.38086622953414917, 테스트 정확도: 94.2135238647461\n",
            "에포크: 560, 손실: 0.006673113442957401, 정확도: 99.80130004882812, 테스트 손실: 0.3885599374771118, 테스트 정확도: 94.23486328125\n",
            "에포크: 600, 손실: 0.0062289792113006115, 정확도: 99.81452941894531, 테스트 손실: 0.39526209235191345, 테스트 정확도: 94.2527084350586\n",
            "에포크: 640, 손실: 0.005840275436639786, 정확도: 99.82609558105469, 테스트 손실: 0.4019129276275635, 테스트 정확도: 94.26737976074219\n",
            "에포크: 680, 손실: 0.005497234407812357, 정확도: 99.83631134033203, 테스트 손실: 0.4071006178855896, 테스트 정확도: 94.27713012695312\n",
            "에포크: 720, 손실: 0.006392054725438356, 정확도: 99.8314208984375, 테스트 손실: 0.4118784964084625, 테스트 정확도: 94.20355987548828\n",
            "에포크: 760, 손실: 0.006058721803128719, 정확도: 99.84027862548828, 테스트 손실: 0.41369691491127014, 테스트 정확도: 94.12287139892578\n"
          ],
          "name": "stdout"
        }
      ]
    },
    {
      "cell_type": "markdown",
      "metadata": {
        "id": "AVhIOsjJXCM3",
        "colab_type": "text"
      },
      "source": [
        "dropout을 cnn층 중간중간에 추가했더니 train 정확도는 99.8%로 거의 변화하지 않았지만 test 정확도는 94.12%로 올랐습니다! 직접 커스터마이징한 모델이 Sequential 모델만큼 잘 작동하는 것 같습니다."
      ]
    }
  ]
}