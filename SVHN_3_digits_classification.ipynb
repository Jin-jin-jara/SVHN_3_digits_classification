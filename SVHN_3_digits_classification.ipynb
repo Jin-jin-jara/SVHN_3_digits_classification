{
  "nbformat": 4,
  "nbformat_minor": 0,
  "metadata": {
    "colab": {
      "name": "small-project : SVHN_3_digits_classification.ipynb",
      "provenance": [],
      "collapsed_sections": [],
      "machine_shape": "hm",
      "include_colab_link": true
    },
    "kernelspec": {
      "name": "python3",
      "display_name": "Python 3"
    },
    "accelerator": "GPU"
  },
  "cells": [
    {
      "cell_type": "markdown",
      "metadata": {
        "id": "view-in-github",
        "colab_type": "text"
      },
      "source": [
        "<a href=\"https://colab.research.google.com/github/Jin-jin-jara/Small-Project1--SVHN_3_digits_classification/blob/master/small_project_SVHN_3_digits_classification.ipynb\" target=\"_parent\"><img src=\"https://colab.research.google.com/assets/colab-badge.svg\" alt=\"Open In Colab\"/></a>"
      ]
    },
    {
      "cell_type": "markdown",
      "metadata": {
        "id": "DT8XfEiwE32c",
        "colab_type": "text"
      },
      "source": [
        "# SVHN 3 digits classification"
      ]
    },
    {
      "cell_type": "markdown",
      "metadata": {
        "id": "hjZbIcQnFCI8",
        "colab_type": "text"
      },
      "source": [
        "필요한 라이브러리를 임포트합니다."
      ]
    },
    {
      "cell_type": "code",
      "metadata": {
        "id": "pM_IxykoeM5w",
        "colab_type": "code",
        "colab": {}
      },
      "source": [
        "%tensorflow_version 2.x\n",
        "import numpy as np\n",
        "import matplotlib.pyplot as plt\n",
        "%matplotlib inline\n",
        "import random\n",
        "import os\n",
        "\n",
        "from scipy.io import loadmat\n",
        "from skimage import color\n",
        "from skimage import io\n",
        "\n",
        "# CNN 모델을 위한 라이브러리\n",
        "import tensorflow as tf\n",
        "from tensorflow import keras\n",
        "from tensorflow.keras import Model\n",
        "from tensorflow.keras.layers import Dense, Conv2D, MaxPool2D, Flatten, Activation, Dropout, BatchNormalization\n",
        "from keras import optimizers"
      ],
      "execution_count": 0,
      "outputs": []
    },
    {
      "cell_type": "code",
      "metadata": {
        "id": "fPgw145uWS6y",
        "colab_type": "code",
        "outputId": "49cf30b4-ba99-4105-dad5-cd9a605ac391",
        "colab": {
          "base_uri": "https://localhost:8080/",
          "height": 127
        }
      },
      "source": [
        "from google.colab import drive\n",
        "drive.mount('/content/drive')"
      ],
      "execution_count": 3,
      "outputs": [
        {
          "output_type": "stream",
          "text": [
            "Go to this URL in a browser: https://accounts.google.com/o/oauth2/auth?client_id=947318989803-6bn6qk8qdgf4n4g3pfee6491hc0brc4i.apps.googleusercontent.com&redirect_uri=urn%3aietf%3awg%3aoauth%3a2.0%3aoob&response_type=code&scope=email%20https%3a%2f%2fwww.googleapis.com%2fauth%2fdocs.test%20https%3a%2f%2fwww.googleapis.com%2fauth%2fdrive%20https%3a%2f%2fwww.googleapis.com%2fauth%2fdrive.photos.readonly%20https%3a%2f%2fwww.googleapis.com%2fauth%2fpeopleapi.readonly\n",
            "\n",
            "Enter your authorization code:\n",
            "··········\n",
            "Mounted at /content/drive\n"
          ],
          "name": "stdout"
        }
      ]
    },
    {
      "cell_type": "markdown",
      "metadata": {
        "id": "8xqHpNWHFVUs",
        "colab_type": "text"
      },
      "source": [
        "데이터를 불러오는 함수입니다. 데이터 전처리 과정은 <a href=\"https://github.com/aditya9211/SVHN-CNN/blob/master/data_preprocess.ipynb\">여기</a>를 참고했습니다."
      ]
    },
    {
      "cell_type": "code",
      "metadata": {
        "id": "S-8pC9_Td4wd",
        "colab_type": "code",
        "outputId": "6aa8241d-a35c-4df1-93dc-642271d7301f",
        "colab": {
          "base_uri": "https://localhost:8080/",
          "height": 35
        }
      },
      "source": [
        "def load_data(path):\n",
        "  data = loadmat(path)\n",
        "  return data['X'], data['y']\n",
        "\n",
        "x, y = load_data(\"/content/drive/My Drive/test_32x32.mat\")\n",
        "\n",
        "x.shape, y.shape"
      ],
      "execution_count": 34,
      "outputs": [
        {
          "output_type": "execute_result",
          "data": {
            "text/plain": [
              "((32, 32, 3, 26032), (26032, 1))"
            ]
          },
          "metadata": {
            "tags": []
          },
          "execution_count": 34
        }
      ]
    },
    {
      "cell_type": "markdown",
      "metadata": {
        "id": "TTE4IQIwHEin",
        "colab_type": "text"
      },
      "source": [
        "제공받은 데이터가 (높이, 너비, 채널, 데이터 수)의 형상을 갖고 있습니다. 하지만 모델에 넣을 데이터의 형상은 (데이터 수, 높이, 너비, 채널)이기 때문에 데이터의 형상을 바꿔줍니다."
      ]
    },
    {
      "cell_type": "code",
      "metadata": {
        "id": "rkT-9EdOeyDN",
        "colab_type": "code",
        "outputId": "56be65eb-6c7b-48df-ccb6-a3156e389e43",
        "colab": {
          "base_uri": "https://localhost:8080/",
          "height": 35
        }
      },
      "source": [
        "x, y = x.transpose((3,0,1,2)), y[:, 0]\n",
        "\n",
        "x.shape, y.shape"
      ],
      "execution_count": 35,
      "outputs": [
        {
          "output_type": "execute_result",
          "data": {
            "text/plain": [
              "((26032, 32, 32, 3), (26032,))"
            ]
          },
          "metadata": {
            "tags": []
          },
          "execution_count": 35
        }
      ]
    },
    {
      "cell_type": "code",
      "metadata": {
        "colab_type": "code",
        "id": "tZfDk3LsHjMX",
        "colab": {}
      },
      "source": [
        "m = len(y)//2\n",
        "\n",
        "x_train = x[:m]\n",
        "y_train = y[:m]\n",
        "x_test = x[m:m*2]\n",
        "y_test = y[m:m*2]"
      ],
      "execution_count": 0,
      "outputs": []
    },
    {
      "cell_type": "markdown",
      "metadata": {
        "id": "tYqUdAvyHiU1",
        "colab_type": "text"
      },
      "source": [
        "이미지를 시각화하는 함수입니다."
      ]
    },
    {
      "cell_type": "code",
      "metadata": {
        "id": "f4gjRmCdispj",
        "colab_type": "code",
        "colab": {}
      },
      "source": [
        "def plot_images(img, labels, nrows, ncols):\n",
        "\n",
        "  fig, axes = plt.subplots(nrows, ncols)\n",
        "  for i, ax in enumerate(axes.flat):\n",
        "    if img[i].shape == (32,32,3):\n",
        "      ax.imshow(img[i])\n",
        "    else:\n",
        "      ax.imshow(img[i,:,:,0])\n",
        "    ax.set_xticks([]); ax.set_yticks([])\n",
        "    ax.set_title(labels[i])"
      ],
      "execution_count": 0,
      "outputs": []
    },
    {
      "cell_type": "markdown",
      "metadata": {
        "id": "PPa0IHbbMVYb",
        "colab_type": "text"
      },
      "source": [
        "이미지들을 보니 어떤 이미지들은 한 이미지 파일안에 한 숫자가 있지만, 어떤 이미지들은 좌우에 다른 숫자가 붙어 있습니다. 이런 이미지들은 모델이 숫자를 학습하는데 방해가 될 것 같습니다. 정답인 숫자들은 이미지 가운데 위치하기 때문에 좌우 픽셀들을 조금씩 잘라주면 학습하는데 더 유용할 것 같습니다."
      ]
    },
    {
      "cell_type": "code",
      "metadata": {
        "id": "Ljkubj_FkxZ3",
        "colab_type": "code",
        "outputId": "625ddf25-f89f-48ee-83f1-625266d806f3",
        "colab": {
          "base_uri": "https://localhost:8080/",
          "height": 205
        }
      },
      "source": [
        "plot_images(x_train, y_train, 2, 8)"
      ],
      "execution_count": 38,
      "outputs": [
        {
          "output_type": "display_data",
          "data": {
            "image/png": "[encoded data removed]",
            "text/plain": [
              "<Figure size 432x288 with 16 Axes>"
            ]
          },
          "metadata": {
            "tags": []
          }
        }
      ]
    },
    {
      "cell_type": "markdown",
      "metadata": {
        "id": "DWeT5XhqM8Pr",
        "colab_type": "text"
      },
      "source": [
        "정답이 0인 이미지는 10으로 레이블이 되어있습니다. 정답 레이블 10을 0으로 바꿔주겠습니다."
      ]
    },
    {
      "cell_type": "code",
      "metadata": {
        "id": "BQY_J8hSk3om",
        "colab_type": "code",
        "outputId": "270e7bbb-7501-439b-a597-372f5d7bf9ad",
        "colab": {
          "base_uri": "https://localhost:8080/",
          "height": 35
        }
      },
      "source": [
        "print(np.unique(y_train))"
      ],
      "execution_count": 39,
      "outputs": [
        {
          "output_type": "stream",
          "text": [
            "[ 1  2  3  4  5  6  7  8  9 10]\n"
          ],
          "name": "stdout"
        }
      ]
    },
    {
      "cell_type": "code",
      "metadata": {
        "id": "hvhHRKoTmmCi",
        "colab_type": "code",
        "outputId": "22a6d97f-ce9c-4564-8a9a-ef5c8942c8a5",
        "colab": {
          "base_uri": "https://localhost:8080/",
          "height": 53
        }
      },
      "source": [
        "y_train[y_train == 10] = 0\n",
        "y_test[y_test == 10] = 0\n",
        "\n",
        "print(np.unique(y_train))\n",
        "print(np.unique(y_test))"
      ],
      "execution_count": 40,
      "outputs": [
        {
          "output_type": "stream",
          "text": [
            "[0 1 2 3 4 5 6 7 8 9]\n",
            "[0 1 2 3 4 5 6 7 8 9]\n"
          ],
          "name": "stdout"
        }
      ]
    },
    {
      "cell_type": "markdown",
      "metadata": {
        "id": "RlTRx17FNsop",
        "colab_type": "text"
      },
      "source": [
        "이미지들을 붙여 3자리 숫자로 만들어주는 함수입니다. 좌우 6픽셀씩 잘라줍니다."
      ]
    },
    {
      "cell_type": "code",
      "metadata": {
        "id": "drmdCkRD_0T6",
        "colab_type": "code",
        "colab": {}
      },
      "source": [
        "def attach_3_image(x, y):\n",
        "  m = len(y)\n",
        "  m = m-m%3\n",
        "  pad = 6\n",
        "  x, y = x[:m], y[:m]  # 3의 배수의 데이터수를 사용\n",
        "  x = x[:,:, pad:-pad]  # 영상 좌우 6px 제거\n",
        "  x_attach = np.concatenate((x[::3], x[1::3], x[2::3]), axis=2)\n",
        "  y_attach = np.reshape(y, [-1,3])\n",
        "  return x_attach, y_attach"
      ],
      "execution_count": 0,
      "outputs": []
    },
    {
      "cell_type": "markdown",
      "metadata": {
        "id": "p-E5JzfuCOL8",
        "colab_type": "text"
      },
      "source": [
        "데이터가 너무 적으면 새로운 샘플에 잘 일반화되지 않습니다. 더 많은 데이터를 학습시키기 위해 train데이터 셋을 늘려주겠습니다. 데이터를 랜덤으로 train셋에서 샘플링해 3개의 이미지를 조합하는 방법을 사용하면, 모델은 더 많은 경우를 학습할 수 있을 것입니다. "
      ]
    },
    {
      "cell_type": "code",
      "metadata": {
        "id": "SNMLuapuoqJC",
        "colab_type": "code",
        "colab": {
          "base_uri": "https://localhost:8080/",
          "height": 35
        },
        "outputId": "52bffb4a-06c1-4e19-bcb2-c74806b95818"
      },
      "source": [
        "rand_x = []\n",
        "rand_y = []\n",
        "for _ in range(10):\n",
        "  rand_x_y = random.sample(list(zip(x_train, y_train)), len(x_train)//2)\n",
        "\n",
        "  rand_x += [x[0] for x in rand_x_y]\n",
        "  rand_y += [x[1] for x in rand_x_y]\n",
        "\n",
        "rand_x = np.array(rand_x)\n",
        "rand_y = np.array(rand_y)\n",
        "\n",
        "x3_train, y3_train = attach_3_image(rand_x, rand_y)\n",
        "x3_test, y3_test = attach_3_image(x_test, y_test)\n",
        "x3_train.shape, y3_train.shape, x3_test.shape, y3_test.shape"
      ],
      "execution_count": 42,
      "outputs": [
        {
          "output_type": "execute_result",
          "data": {
            "text/plain": [
              "((21693, 32, 60, 3), (21693, 3), (4338, 32, 60, 3), (4338, 3))"
            ]
          },
          "metadata": {
            "tags": []
          },
          "execution_count": 42
        }
      ]
    },
    {
      "cell_type": "markdown",
      "metadata": {
        "id": "2bjTPs8NNjwt",
        "colab_type": "text"
      },
      "source": [
        "이미지를 확인해보니 3개의 이미지들이 잘 붙었습니다."
      ]
    },
    {
      "cell_type": "code",
      "metadata": {
        "id": "Deoay67CBrtj",
        "colab_type": "code",
        "outputId": "f733f7b6-bd1e-4b37-8928-bc6e1ccaf2ad",
        "colab": {
          "base_uri": "https://localhost:8080/",
          "height": 260
        }
      },
      "source": [
        "i = 43\n",
        "plt.title(str(y3_train[i]))\n",
        "plt.imshow(x3_train[i])"
      ],
      "execution_count": 43,
      "outputs": [
        {
          "output_type": "execute_result",
          "data": {
            "text/plain": [
              "<matplotlib.image.AxesImage at 0x7f9464282a90>"
            ]
          },
          "metadata": {
            "tags": []
          },
          "execution_count": 43
        },
        {
          "output_type": "display_data",
          "data": {
            "image/png": "[encoded data removed]",
            "text/plain": [
              "<Figure size 432x288 with 1 Axes>"
            ]
          },
          "metadata": {
            "tags": []
          }
        }
      ]
    },
    {
      "cell_type": "markdown",
      "metadata": {
        "id": "oZopj3r6OAkK",
        "colab_type": "text"
      },
      "source": [
        "3차원의 rgb채널을 grayscale로 바꿔줍니다."
      ]
    },
    {
      "cell_type": "code",
      "metadata": {
        "id": "GeLYmgeRm1lh",
        "colab_type": "code",
        "outputId": "09ed9416-b4b6-4393-ea3e-f2b8e5b51eaa",
        "colab": {
          "base_uri": "https://localhost:8080/",
          "height": 35
        }
      },
      "source": [
        "def rgb2gray(images):\n",
        "  return np.expand_dims(np.dot(images, [0.2126, 0.7152, 0.0722]), axis=3)\n",
        "\n",
        "train_grayscale = rgb2gray(x3_train).astype(np.float32)\n",
        "x3_test = rgb2gray(x3_test).astype(np.float32)\n",
        "train_grayscale.shape, x3_test.shape"
      ],
      "execution_count": 44,
      "outputs": [
        {
          "output_type": "execute_result",
          "data": {
            "text/plain": [
              "((21693, 32, 60, 1), (4338, 32, 60, 1))"
            ]
          },
          "metadata": {
            "tags": []
          },
          "execution_count": 44
        }
      ]
    },
    {
      "cell_type": "markdown",
      "metadata": {
        "id": "vfoHKK9yO0Ip",
        "colab_type": "text"
      },
      "source": [
        "데이터들을 정규화시켜줍니다. 데이터를 정규화 시켜주면 학습을 더 빨리하고 지역 최적의 상태에 빠지게 될 가능성을 줄여줍니다. "
      ]
    },
    {
      "cell_type": "code",
      "metadata": {
        "id": "bNutU4PinubK",
        "colab_type": "code",
        "colab": {}
      },
      "source": [
        "train_mean = np.mean(train_grayscale, axis=0)\n",
        "train_std = np.std(train_grayscale, axis=0)\n",
        "train_grayscale_norm = (train_grayscale - train_mean) / train_std\n",
        "\n",
        "test_mean = np.mean(x3_test, axis=0)\n",
        "test_std = np.std(x3_test, axis=0)\n",
        "test_grayscale_norm = (x3_test - test_mean) / test_std"
      ],
      "execution_count": 0,
      "outputs": []
    },
    {
      "cell_type": "markdown",
      "metadata": {
        "id": "-2HRpBAeOWbE",
        "colab_type": "text"
      },
      "source": [
        "정규화까지 거친 데이터들의 형상을 보니 (데이터 개수, 높이, 너비, 채널)의 형상으로, 이제 데이터가 모델에 들어갈 준비를 마쳤습니다."
      ]
    },
    {
      "cell_type": "code",
      "metadata": {
        "id": "f3IUN17KN39K",
        "colab_type": "code",
        "outputId": "4a8a6b71-39a0-4d42-f550-b2bbc0638dde",
        "colab": {
          "base_uri": "https://localhost:8080/",
          "height": 35
        }
      },
      "source": [
        "train_grayscale_norm.shape, y3_train.shape, test_grayscale_norm.shape, y3_test.shape"
      ],
      "execution_count": 46,
      "outputs": [
        {
          "output_type": "execute_result",
          "data": {
            "text/plain": [
              "((21693, 32, 60, 1), (21693, 3), (4338, 32, 60, 1), (4338, 3))"
            ]
          },
          "metadata": {
            "tags": []
          },
          "execution_count": 46
        }
      ]
    },
    {
      "cell_type": "markdown",
      "metadata": {
        "id": "09cAbW9JOs_F",
        "colab_type": "text"
      },
      "source": [
        "정규화와 grayscale을 거친 이미지들은 출력해보겠습니다."
      ]
    },
    {
      "cell_type": "code",
      "metadata": {
        "id": "eaYsbGCCUiIs",
        "colab_type": "code",
        "outputId": "bbc678a4-0e8b-489a-8c33-4b860ff0e1ad",
        "colab": {
          "base_uri": "https://localhost:8080/",
          "height": 260
        }
      },
      "source": [
        "i = 43\n",
        "plt.title('y:'+str(y3_train[i]))\n",
        "plt.imshow(train_grayscale_norm[i].reshape((32,-1)))"
      ],
      "execution_count": 47,
      "outputs": [
        {
          "output_type": "execute_result",
          "data": {
            "text/plain": [
              "<matplotlib.image.AxesImage at 0x7f948cfda240>"
            ]
          },
          "metadata": {
            "tags": []
          },
          "execution_count": 47
        },
        {
          "output_type": "display_data",
          "data": {
            "image/png": "[encoded data removed]",
            "text/plain": [
              "<Figure size 432x288 with 1 Axes>"
            ]
          },
          "metadata": {
            "tags": []
          }
        }
      ]
    },
    {
      "cell_type": "markdown",
      "metadata": {
        "id": "Z2urJHJdEeAE",
        "colab_type": "text"
      },
      "source": [
        "## CNN model"
      ]
    },
    {
      "cell_type": "markdown",
      "metadata": {
        "id": "DY1CjFCrPgGi",
        "colab_type": "text"
      },
      "source": [
        "\n",
        "배치 사이즈를 정하고 데이터를 데이터 소스로 만듭니다."
      ]
    },
    {
      "cell_type": "code",
      "metadata": {
        "id": "F4OudJPgPc0K",
        "colab_type": "code",
        "colab": {}
      },
      "source": [
        "BATCH_SIZE = 128\n",
        "\n",
        "train_ds = tf.data.Dataset.from_tensor_slices((train_grayscale_norm, y3_train)).shuffle(10000).batch(BATCH_SIZE)\n",
        "test_ds = tf.data.Dataset.from_tensor_slices((test_grayscale_norm, y3_test)).shuffle(10000).batch(BATCH_SIZE)"
      ],
      "execution_count": 0,
      "outputs": []
    },
    {
      "cell_type": "markdown",
      "metadata": {
        "id": "_IXOyIieIQaZ",
        "colab_type": "text"
      },
      "source": [
        "CNN 모델은 이전에 <a href=\"https://github.com/Jin-jin-jara/Small-Project1---two_digits_with_blank_classification/blob/master/small_project1_two_digits_with_blank.ipynb\">two_digits_with_blank_classification</a> 에서 만들어둔 모델을 가져와 수정해서 사용하겠습니다."
      ]
    },
    {
      "cell_type": "code",
      "metadata": {
        "id": "FC3TlZ28rL4c",
        "colab_type": "code",
        "colab": {}
      },
      "source": [
        "class MyModel(Model): \n",
        "  def __init__(self):\n",
        "    super(MyModel, self).__init__()\n",
        "    self.k = 10     # 클래스 개수 (0 ~ 9)\n",
        "    self.seq = 3     # 자리수\n",
        "    self.conv1 = Conv2D(128, 5, padding=\"same\", activation=\"relu\")\n",
        "    self.pool1 = MaxPool2D(2, padding=\"same\")\n",
        "    self.conv2 = Conv2D(128, 5, padding='same', activation=\"relu\")\n",
        "    self.pool2 = MaxPool2D(2, padding=\"same\")\n",
        "    self.conv3 = Conv2D(128, 5, padding='same', activation=\"relu\")\n",
        "    self.pool3 = MaxPool2D(2, padding=\"same\")\n",
        "    self.conv4 = Conv2D(128, 5, padding='same', activation=\"relu\")\n",
        "    self.pool4 = MaxPool2D(2, padding=\"same\")\n",
        "    self.dropout = Dropout(rate=0.5)\n",
        "    self.bn = BatchNormalization()\n",
        "    self.flatten = Flatten()\n",
        "    self.d1 = Dense(128, activation=\"relu\")\n",
        "    self.d2 = Dense(self.k*self.seq)   # 30\n",
        "\n",
        "  def call(self, x):\n",
        "    # (m, 32, 60, 1)\n",
        "    x = self.conv1(x)\n",
        "    x = self.bn(x)\n",
        "    x = self.pool1(x)  # (m, 16, 30, 128)\n",
        "    x = self.dropout(x)\n",
        "    x = self.conv2(x)\n",
        "    x = self.bn(x)\n",
        "    x = self.pool2(x)  # (m, 8, 15, 128)\n",
        "    x = self.dropout(x)\n",
        "    x = self.conv3(x)\n",
        "    x = self.bn(x)\n",
        "    x = self.pool3(x)  # (m, 4, 8, 128)\n",
        "    x = self.dropout(x)\n",
        "    x = self.conv4(x)\n",
        "    x = self.bn(x)\n",
        "    x = self.pool4(x)   # (m, 2, 4, 128)\n",
        "    x = self.flatten(x)  # (m, 1024)\n",
        "    x = self.d1(x)   # (m, 128)\n",
        "    x = self.dropout(x)\n",
        "    h = self.d2(x)  # (m, 30)\n",
        "    h = tf.reshape(h, [-1, self.seq, self.k]) # (m, 3, 10)\n",
        "    h = tf.nn.softmax(h, axis=2)   \n",
        "    return h\n",
        "\n",
        "model = MyModel()"
      ],
      "execution_count": 0,
      "outputs": []
    },
    {
      "cell_type": "markdown",
      "metadata": {
        "id": "bOVwY6MvWIDi",
        "colab_type": "text"
      },
      "source": [
        "\n",
        "loss function, optimizer, metrics를 설정해줍니다."
      ]
    },
    {
      "cell_type": "code",
      "metadata": {
        "id": "bU47lMeCPPfS",
        "colab_type": "code",
        "colab": {}
      },
      "source": [
        "loss_object = tf.keras.losses.CategoricalCrossentropy()\n",
        "optimizer = tf.keras.optimizers.Adam(learning_rate=0.001)\n",
        "\n",
        "train_loss = tf.keras.metrics.Mean(name=\"train_loss\")\n",
        "train_accuracy = tf.keras.metrics.CategoricalAccuracy(name=\"train_acc\")\n",
        "\n",
        "test_loss = tf.keras.metrics.Mean(name='test_loss')\n",
        "test_accuracy = tf.keras.metrics.CategoricalAccuracy(name=\"test_acc\")"
      ],
      "execution_count": 0,
      "outputs": []
    },
    {
      "cell_type": "markdown",
      "metadata": {
        "id": "uBHYowx6WPXS",
        "colab_type": "text"
      },
      "source": [
        "train과 test를 위한 함수입니다. 레이블은 one-hot encoding해주겠습니다."
      ]
    },
    {
      "cell_type": "code",
      "metadata": {
        "id": "y2VOv88hPPnY",
        "colab_type": "code",
        "colab": {}
      },
      "source": [
        "@tf.function\n",
        "def train_step(images, labels):\n",
        "  y_hot = tf.one_hot(labels, depth=10, axis=-1)\n",
        "  with tf.GradientTape() as tape:\n",
        "    predictions = model(images) # (m, 32, 60, 1)\n",
        "    loss = loss_object(y_hot, predictions)\n",
        "  grads = tape.gradient(loss, model.trainable_variables)\n",
        "  optimizer.apply_gradients(zip(grads, model.trainable_variables))\n",
        "\n",
        "  train_loss(loss)\n",
        "  train_accuracy(y_hot, predictions)"
      ],
      "execution_count": 0,
      "outputs": []
    },
    {
      "cell_type": "code",
      "metadata": {
        "id": "z38yevyoPPqC",
        "colab_type": "code",
        "colab": {}
      },
      "source": [
        "@tf.function\n",
        "def test_step(images, labels):\n",
        "  y_hot = tf.one_hot(labels, depth=10, axis=-1)\n",
        "  predictions = model(images)\n",
        "  t_loss = loss_object(y_hot, predictions)\n",
        "\n",
        "  test_loss(t_loss)\n",
        "  test_accuracy(y_hot, predictions)"
      ],
      "execution_count": 0,
      "outputs": []
    },
    {
      "cell_type": "code",
      "metadata": {
        "id": "xlFggmStPPwo",
        "colab_type": "code",
        "outputId": "ef0255fd-38b4-45a5-d759-75337a730ab9",
        "colab": {
          "base_uri": "https://localhost:8080/",
          "height": 467
        }
      },
      "source": [
        "EPOCHS = 1000\n",
        "\n",
        "for epoch in range(EPOCHS):\n",
        "  for images, labels in train_ds: # batch size = 128씩 나눠져 들어갑니다\n",
        "    train_step(images, labels)\n",
        "  \n",
        "  for test_images, labels in test_ds:\n",
        "    test_step(test_images, labels)\n",
        "  \n",
        "  template = \"에포크: {}, 손실: {}, 정확도: {}, 테스트 손실: {}, 테스트 정확도: {}\"\n",
        "  \n",
        "  if epoch%40==0:\n",
        "    print(template.format(epoch,\n",
        "                          train_loss.result(),\n",
        "                          train_accuracy.result()*100,\n",
        "                          test_loss.result(),\n",
        "                          test_accuracy.result()*100))"
      ],
      "execution_count": 53,
      "outputs": [
        {
          "output_type": "stream",
          "text": [
            "에포크: 0, 손실: 1.5748504400253296, 정확도: 45.1743278503418, 테스트 손실: 0.7344980239868164, 테스트 정확도: 76.01044464111328\n",
            "에포크: 40, 손실: 0.07031186670064926, 정확도: 97.67423248291016, 테스트 손실: 0.6985553503036499, 테스트 정확도: 90.22647094726562\n",
            "에포크: 80, 손실: 0.03952466696500778, 정확도: 98.71312713623047, 테스트 손실: 0.8079792261123657, 테스트 정확도: 90.59426879882812\n",
            "에포크: 120, 손실: 0.027793817222118378, 정확도: 99.1017074584961, 테스트 손실: 0.8477137088775635, 테스트 정확도: 90.8909912109375\n",
            "에포크: 160, 손실: 0.020888520404696465, 정확도: 99.32488250732422, 테스트 손실: 0.8686004281044006, 테스트 정확도: 91.22311401367188\n",
            "에포크: 200, 손실: 0.01673160120844841, 정확도: 99.459228515625, 테스트 손실: 0.894518256187439, 테스트 정확도: 91.447021484375\n",
            "에포크: 240, 손실: 0.013954571448266506, 정확도: 99.54898834228516, 테스트 손실: 0.919386088848114, 테스트 정확도: 91.61324310302734\n",
            "에포크: 280, 손실: 0.011968156322836876, 정확도: 99.61317443847656, 테스트 손실: 0.9364020228385925, 테스트 정확도: 91.73258209228516\n",
            "에포크: 320, 손실: 0.010476796887814999, 정확도: 99.661376953125, 테스트 손실: 0.9581270217895508, 테스트 정확도: 91.81631469726562\n",
            "에포크: 360, 손실: 0.009315933100879192, 정확도: 99.69889831542969, 테스트 손실: 0.9821670055389404, 테스트 정확도: 91.88436126708984\n",
            "에포크: 400, 손실: 0.008386663161218166, 정확도: 99.72892761230469, 테스트 손실: 1.0061085224151611, 테스트 정확도: 91.93958282470703\n",
            "에포크: 440, 손실: 0.007625967729836702, 정확도: 99.7535171508789, 테스트 손실: 1.0290919542312622, 테스트 정확도: 91.98280334472656\n",
            "에포크: 480, 손실: 0.0069917915388941765, 정확도: 99.77401733398438, 테스트 손실: 1.0509928464889526, 테스트 정확도: 92.0219955444336\n",
            "에포크: 520, 손실: 0.006454993970692158, 정확도: 99.79136657714844, 테스트 손실: 1.0718035697937012, 테스트 정확도: 92.05538940429688\n",
            "에포크: 560, 손실: 0.005994744598865509, 정확도: 99.80624389648438, 테스트 손실: 1.0915980339050293, 테스트 정확도: 92.08050537109375\n",
            "에포크: 600, 손실: 0.005595759954303503, 정확도: 99.81913757324219, 테스트 손실: 1.1105636358261108, 테스트 정확도: 92.1017074584961\n",
            "에포크: 640, 손실: 0.00524657079949975, 정확도: 99.8304214477539, 테스트 손실: 1.1288244724273682, 테스트 정확도: 92.1195068359375\n",
            "에포크: 680, 손실: 0.004938402213156223, 정확도: 99.84038543701172, 테스트 손실: 1.1465312242507935, 테스트 정확도: 92.13495635986328\n",
            "에포크: 720, 손실: 0.004664427135139704, 정확도: 99.8492431640625, 테스트 손실: 1.1638890504837036, 테스트 정확도: 92.14909362792969\n",
            "에포크: 760, 손실: 0.004419253207743168, 정확도: 99.85716247558594, 테스트 손실: 1.181088924407959, 테스트 정확도: 92.15908813476562\n",
            "에포크: 800, 손실: 0.004198566544800997, 정확도: 99.86429595947266, 테스트 손실: 1.198301911354065, 테스트 정확도: 92.16825103759766\n",
            "에포크: 840, 손실: 0.003998872358351946, 정확도: 99.8707504272461, 테스트 손실: 1.2157777547836304, 테스트 정확도: 92.17613983154297\n",
            "에포크: 880, 손실: 0.003817311953753233, 정확도: 99.87661743164062, 테스트 손실: 1.2338262796401978, 테스트 정확도: 92.18226623535156\n",
            "에포크: 920, 손실: 0.0036515220999717712, 정확도: 99.88197326660156, 테스트 손실: 1.253063678741455, 테스트 정확도: 92.18647766113281\n",
            "에포크: 960, 손실: 0.00349953374825418, 정확도: 99.88689422607422, 테스트 손실: 1.274946689605713, 테스트 정확도: 92.1871566772461\n"
          ],
          "name": "stdout"
        }
      ]
    }
  ]
}
